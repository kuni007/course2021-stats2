{
  "nbformat": 4,
  "nbformat_minor": 0,
  "metadata": {
    "colab": {
      "name": "01_introduction.ipynb",
      "provenance": [],
      "collapsed_sections": [],
      "authorship_tag": "ABX9TyOi1jjRP9is5Tv3qyqbIyji",
      "include_colab_link": true
    },
    "kernelspec": {
      "name": "python3",
      "display_name": "Python 3"
    }
  },
  "cells": [
    {
      "cell_type": "markdown",
      "metadata": {
        "id": "view-in-github",
        "colab_type": "text"
      },
      "source": [
        "<a href=\"https://colab.research.google.com/github/tomonari-masada/course2021-stats2/blob/main/01_introduction.ipynb\" target=\"_parent\"><img src=\"https://colab.research.google.com/assets/colab-badge.svg\" alt=\"Open In Colab\"/></a>"
      ]
    },
    {
      "cell_type": "markdown",
      "metadata": {
        "id": "MsPVxG3tSFXu"
      },
      "source": [
        "# 1. イントロダクション\n",
        "* キャメロン・デビッドソン=ピロン(著), 玉木徹(訳)：『Pythonで体験するベイズ推論:PyMCによるMCMC入門』, 森北出版 (2017)\n",
        " * https://www.amazon.co.jp/dp/4627077912\n",
        "* リポジトリ\n",
        " * https://github.com/CamDavidsonPilon/Probabilistic-Programming-and-Bayesian-Methods-for-Hackers"
      ]
    },
    {
      "cell_type": "markdown",
      "metadata": {
        "id": "Z5O6bxfGTCKG"
      },
      "source": [
        "## 1.1 ベイズ的な考え方"
      ]
    },
    {
      "cell_type": "markdown",
      "metadata": {
        "id": "fReIVY8rXZFk"
      },
      "source": [
        "### 1.1.1 ベイズ則\n",
        "\n",
        "$P(A|X)=\\frac{P(X|A)P(A)}{P(X)}$\n",
        "\n",
        "$P(A|X) \\propto P(X|A)P(A)$"
      ]
    },
    {
      "cell_type": "markdown",
      "metadata": {
        "id": "S_xfmJxSXgBn"
      },
      "source": [
        "### 1.1.2 ベイズ的なデータ・モデリングにおけるベイズ則の使われ方\n",
        "* ベイズ的なデータモデリングでは、$A$はモデルのパラメータ、$X$は観測されたデータである。\n",
        "\n",
        "* $P(A)$はモデルのパラメータが従う確率分布で、事前分布(prior distribution)と呼ばれる。\n",
        "* $P(X|A)$は観測データの尤度(likelihood)。\n",
        "* $P(X)$は観測データの周辺尤度（marginal likelihood, evidence）。\n",
        "* $P(A|X)$もモデルのパラメータが従う確率分布で、事後分布と呼ばれる。\n"
      ]
    },
    {
      "cell_type": "markdown",
      "metadata": {
        "id": "guft4yLQY6zz"
      },
      "source": [
        "### 1.1.3 例題：司書か農業家か？\n",
        "* スティーブは内向的な性格。彼が司書になりそうだという結論には、多くの人が同意するだろう。\n",
        "* だが、司書と農業家の比率は1:20。つまり、農業家の方が司書より20倍多い。\n",
        "* スティーブが司書であるという事象を$A$とする。スティーブについて何の情報もなければ、$P(A)=\\frac{1}{21}=0.047$である。\n",
        "* 近所の住人から、彼が内向的だとの情報（この情報を$X$とする）を得た。考えたいのは$P(A|X)$である。\n",
        "* ベイズ則より$P(A|X)=\\frac{P(X|A)P(A)}{P(X)}$である。\n",
        "* $P(X|A)$について\n",
        " * これはスティーブが司書である場合に近所の住人が彼は内向的だと語る確率である。これは非常に高いだろう。そこで、0.95だとする。\n",
        "* $P(X)$について\n",
        " * これは$P(X)=P(X|A)P(A)+P(X|\\neg A)P(\\neg A)$と分解できる。\n",
        " * ここで、$P(X|\\neg A)$は、スティーブが農業家である場合に近所の人が彼は内向的だと語る確率であるが、0.5だとしよう。\n",
        " * すると、\n",
        "$P(X)=0.95 \\times \\frac{1}{21} + 0.5 \\times \\frac{20}{21} = 0.52$を得る。\n",
        "* 以上より、以下の結果を得る。\n",
        "\n",
        "$P(A|X) = \\frac{0.95 \\times \\frac{1}{21}}{0.52} = 0.087$\n"
      ]
    }
  ]
}