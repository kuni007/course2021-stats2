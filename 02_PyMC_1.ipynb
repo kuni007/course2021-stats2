{
  "nbformat": 4,
  "nbformat_minor": 0,
  "metadata": {
    "colab": {
      "name": "02_PyMC_1.ipynb",
      "provenance": [],
      "collapsed_sections": [],
      "authorship_tag": "ABX9TyMoBcrnL8b21T4YOJC4veC0",
      "include_colab_link": true
    },
    "kernelspec": {
      "name": "python3",
      "display_name": "Python 3"
    }
  },
  "cells": [
    {
      "cell_type": "markdown",
      "metadata": {
        "id": "view-in-github",
        "colab_type": "text"
      },
      "source": [
        "<a href=\"https://colab.research.google.com/github/tomonari-masada/course2021-stats2/blob/main/02_PyMC_1.ipynb\" target=\"_parent\"><img src=\"https://colab.research.google.com/assets/colab-badge.svg\" alt=\"Open In Colab\"/></a>"
      ]
    },
    {
      "cell_type": "markdown",
      "metadata": {
        "id": "kPliufI5JIBN"
      },
      "source": [
        "# 2. PyMC3入門\n",
        "* 今回、PyMC3を解説するに当たっては、PyMC3の公式サイトを参考にした。\n",
        " * https://docs.pymc.io/notebooks/api_quickstart.html"
      ]
    },
    {
      "cell_type": "markdown",
      "metadata": {
        "id": "aAmsZdwhg4tg"
      },
      "source": [
        "## 2.0 準備"
      ]
    },
    {
      "cell_type": "markdown",
      "metadata": {
        "id": "FJx0tbUNM9sF"
      },
      "source": [
        "### 2.0.1 インストール\n",
        "* arviz関係のエラーが出たら、ランタイムを再起動して、そこから上のセルを実行し直す。"
      ]
    },
    {
      "cell_type": "code",
      "metadata": {
        "id": "L9GnKuyVKdzr"
      },
      "source": [
        "!pip install arviz==0.10"
      ],
      "execution_count": null,
      "outputs": []
    },
    {
      "cell_type": "code",
      "metadata": {
        "id": "hvLGufD_IWh3"
      },
      "source": [
        "!pip install pymc3==3.8"
      ],
      "execution_count": null,
      "outputs": []
    },
    {
      "cell_type": "markdown",
      "metadata": {
        "id": "jCqtJ-6YYFXp"
      },
      "source": [
        "### 2.0.2 復習：ベイズ的モデリングにおけるベイズ則\n",
        "* $X$を観測データ、$\\theta$を観測データをモデル化する確率分布のパラメータとする。\n",
        "$$ p(\\theta | X) = \\frac{ p(X | \\theta) p(\\theta) }{ p(X) } $$\n",
        "* ベイズ的モデリングでは、事後分布$p(\\theta | X)$を知ることが目標。\n",
        " * MCMCは、事後分布から得たサンプルを通して事後分布の姿を知ろうとする時に使う。\n",
        " * 変分ベイズ推論は、事後分布を近似する代替物としての別の扱いやすい分布を通して事後分布の姿を知ろうとする時に使う。"
      ]
    },
    {
      "cell_type": "markdown",
      "metadata": {
        "id": "23dp0aRxfnAQ"
      },
      "source": [
        "## 2.1 PyMC3でモデルを作る"
      ]
    },
    {
      "cell_type": "markdown",
      "metadata": {
        "id": "KEiblWBOM0py"
      },
      "source": [
        "### 2.1.1 PyMC3における確率変数"
      ]
    },
    {
      "cell_type": "markdown",
      "metadata": {
        "id": "U-WrSWrINLFf"
      },
      "source": [
        "* とりあえずPyMC3をインポートする。\n",
        " * エラーが出たらランタイムを再起動するなどしてみる。"
      ]
    },
    {
      "cell_type": "code",
      "metadata": {
        "id": "w7wrYLCfJm0h"
      },
      "source": [
        "import numpy as np\n",
        "import pymc3 as pm"
      ],
      "execution_count": null,
      "outputs": []
    },
    {
      "cell_type": "markdown",
      "metadata": {
        "id": "1CiP2s-6Mw4o"
      },
      "source": [
        "* PyMC3では、いきなり確率変数を作ることはできない。\n",
        " * パラメータが1の指数分布に従う確率変数を作ろうとして、下のセルを実行すると、エラーが出るはず。"
      ]
    },
    {
      "cell_type": "code",
      "metadata": {
        "id": "bG5B1K0bJvRJ"
      },
      "source": [
        "# lambda_ = pm.Exponential(\"poisson_param\", 1)"
      ],
      "execution_count": null,
      "outputs": []
    },
    {
      "cell_type": "markdown",
      "metadata": {
        "id": "pSQesi3dNVd7"
      },
      "source": [
        "* 確率変数は、いきなり作るのではなく、必ずモデルの中で作る。\n",
        " * あらかじめ空のインスタンスを作っておき、「with model:」というブロックを書くか、\n",
        " * いきなり「with pm.Model() as model:」というブロックを書くかの、いずれか。"
      ]
    },
    {
      "cell_type": "code",
      "metadata": {
        "id": "7ipneWn0lGER"
      },
      "source": [
        "model = pm.Model()\n",
        "with model:\n",
        "    lambda_ = pm.Exponential(\"poisson_param\", 1)"
      ],
      "execution_count": null,
      "outputs": []
    },
    {
      "cell_type": "code",
      "metadata": {
        "id": "B36emCanlLHf"
      },
      "source": [
        "with pm.Model() as model:\n",
        "    lambda_ = pm.Exponential(\"poisson_param\", 1)"
      ],
      "execution_count": null,
      "outputs": []
    },
    {
      "cell_type": "markdown",
      "metadata": {
        "id": "LsLMByYqSfVj"
      },
      "source": [
        "* 下のモデルは、まず、平均パラメータが0で標準偏差パラメータが1の正規分布に従うunobservedな確率変数muを持っている。\n",
        " * この正規分布は、平均パラメータが従う事前分布。\n",
        "* そして、平均パラメータが確率変数muで標準偏差パラメータが1の正規分布に従うobservedな確率変数obsを持っている。\n",
        " * この正規分布は、データを直接モデリングする確率分布。\n",
        "* さらに、観測データとして、正規乱数として生成した100個の数値を指定している。\n",
        "---\n",
        "* このベイズ的なモデルを数式で書くと・・・\n",
        "$$ \\mu \\sim N(0, 1) $$\n",
        "$$ x \\sim N(\\mu, 1) $$\n",
        "\n"
      ]
    },
    {
      "cell_type": "code",
      "metadata": {
        "id": "XV2yhorQMc81"
      },
      "source": [
        "model = pm.Model()\n",
        "with model:\n",
        "    mu = pm.Normal(\"mu\", mu=0, sigma=1)\n",
        "    obs = pm.Normal(\"obs\", mu=mu, sigma=1, observed=np.random.randn(100))"
      ],
      "execution_count": null,
      "outputs": []
    },
    {
      "cell_type": "markdown",
      "metadata": {
        "id": "9E1eeMR4dWOj"
      },
      "source": [
        "* notebook環境では、確率変数がどんな分布に従うかを簡単に確認できる。"
      ]
    },
    {
      "cell_type": "code",
      "metadata": {
        "colab": {
          "base_uri": "https://localhost:8080/",
          "height": 39
        },
        "id": "IYBPievIdODF",
        "outputId": "e9563662-77cc-4628-e82c-deff564cd33f"
      },
      "source": [
        "mu"
      ],
      "execution_count": null,
      "outputs": [
        {
          "output_type": "execute_result",
          "data": {
            "text/latex": "$\\text{mu} \\sim \\text{Normal}(\\mathit{mu}=0.0,~\\mathit{sigma}=1.0)$",
            "text/plain": [
              "mu"
            ]
          },
          "metadata": {
            "tags": []
          },
          "execution_count": 8
        }
      ]
    },
    {
      "cell_type": "code",
      "metadata": {
        "colab": {
          "base_uri": "https://localhost:8080/",
          "height": 39
        },
        "id": "SKqV4YBcTAfa",
        "outputId": "1efe78f5-d9f9-43ce-8084-775f8446f047"
      },
      "source": [
        "model.named_vars[\"mu\"]"
      ],
      "execution_count": null,
      "outputs": [
        {
          "output_type": "execute_result",
          "data": {
            "text/latex": "$\\text{mu} \\sim \\text{Normal}(\\mathit{mu}=0.0,~\\mathit{sigma}=1.0)$",
            "text/plain": [
              "mu"
            ]
          },
          "metadata": {
            "tags": []
          },
          "execution_count": 9
        }
      ]
    },
    {
      "cell_type": "code",
      "metadata": {
        "colab": {
          "base_uri": "https://localhost:8080/",
          "height": 39
        },
        "id": "I9z4kN9LdPkh",
        "outputId": "99629df3-e7fc-4809-a079-bde3157b2959"
      },
      "source": [
        "obs"
      ],
      "execution_count": null,
      "outputs": [
        {
          "output_type": "execute_result",
          "data": {
            "text/latex": "$\\text{obs} \\sim \\text{Normal}(\\mathit{mu}=\\text{mu},~\\mathit{sigma}=1.0)$",
            "text/plain": [
              "obs"
            ]
          },
          "metadata": {
            "tags": []
          },
          "execution_count": 10
        }
      ]
    },
    {
      "cell_type": "code",
      "metadata": {
        "colab": {
          "base_uri": "https://localhost:8080/",
          "height": 39
        },
        "id": "Yxq_0L6hTTHR",
        "outputId": "d73ba6fc-2092-4cbf-b83b-e8c1e6f10059"
      },
      "source": [
        "model.named_vars[\"obs\"]"
      ],
      "execution_count": null,
      "outputs": [
        {
          "output_type": "execute_result",
          "data": {
            "text/latex": "$\\text{obs} \\sim \\text{Normal}(\\mathit{mu}=\\text{mu},~\\mathit{sigma}=1.0)$",
            "text/plain": [
              "obs"
            ]
          },
          "metadata": {
            "tags": []
          },
          "execution_count": 11
        }
      ]
    },
    {
      "cell_type": "markdown",
      "metadata": {
        "id": "D06jV7RRdgRW"
      },
      "source": [
        "* PyMC3の確率変数(RV: random variable)には以下の2種類がある。\n",
        "cf. https://docs.pymc.io/api/variables.html\n",
        "\n",
        "\n",
        "1.   Free (= Unobserved) RVs that a model is specified in terms of. \n",
        "2.   Observed RVs that a model is specified in terms of. Potentially partially observed.\n",
        "\n"
      ]
    },
    {
      "cell_type": "code",
      "metadata": {
        "colab": {
          "base_uri": "https://localhost:8080/"
        },
        "id": "Ob7bCmGopJm1",
        "outputId": "6d6e4b79-676e-47f3-fb09-17037633f555"
      },
      "source": [
        "model.free_RVs"
      ],
      "execution_count": null,
      "outputs": [
        {
          "output_type": "execute_result",
          "data": {
            "text/plain": [
              "[mu]"
            ]
          },
          "metadata": {
            "tags": []
          },
          "execution_count": 12
        }
      ]
    },
    {
      "cell_type": "code",
      "metadata": {
        "colab": {
          "base_uri": "https://localhost:8080/"
        },
        "id": "2PDCycxOpLqq",
        "outputId": "041349d9-3de7-42b8-cb80-79272b2afb41"
      },
      "source": [
        "model.observed_RVs"
      ],
      "execution_count": null,
      "outputs": [
        {
          "output_type": "execute_result",
          "data": {
            "text/plain": [
              "[obs]"
            ]
          },
          "metadata": {
            "tags": []
          },
          "execution_count": 13
        }
      ]
    },
    {
      "cell_type": "markdown",
      "metadata": {
        "id": "GD9oO6KAGJWk"
      },
      "source": [
        "* `basic_RVs`: List of random variables the model is defined in terms of (which excludes deterministics)\n",
        " * deterministicsについては後で説明。"
      ]
    },
    {
      "cell_type": "code",
      "metadata": {
        "colab": {
          "base_uri": "https://localhost:8080/"
        },
        "id": "R2te3Ss9pCjd",
        "outputId": "3a8a3f4f-185b-4d71-f3e7-f0c2d1d1d2e7"
      },
      "source": [
        "model.basic_RVs"
      ],
      "execution_count": null,
      "outputs": [
        {
          "output_type": "execute_result",
          "data": {
            "text/plain": [
              "[mu, obs]"
            ]
          },
          "metadata": {
            "tags": []
          },
          "execution_count": 14
        }
      ]
    },
    {
      "cell_type": "markdown",
      "metadata": {
        "id": "8TZNnV9DgdV9"
      },
      "source": [
        "### 2.1.2 log probabilityの計算"
      ]
    },
    {
      "cell_type": "markdown",
      "metadata": {
        "id": "xl8w-uTupkCY"
      },
      "source": [
        "* 観測データを100個指定しているので、muを特定の値に固定することでlog probabilityを計算することができる。\n",
        " * `logp`は、後で見るように、同時分布$p(X,\\theta)$の密度関数の対数を表す。"
      ]
    },
    {
      "cell_type": "code",
      "metadata": {
        "colab": {
          "base_uri": "https://localhost:8080/"
        },
        "id": "UJTktNIMpSNs",
        "outputId": "e746ed91-53c2-4789-f7f6-5d7fa950a9cf"
      },
      "source": [
        "model.logp({\"mu\": 0})"
      ],
      "execution_count": null,
      "outputs": [
        {
          "output_type": "execute_result",
          "data": {
            "text/plain": [
              "array(-150.77379442)"
            ]
          },
          "metadata": {
            "tags": []
          },
          "execution_count": 15
        }
      ]
    },
    {
      "cell_type": "markdown",
      "metadata": {
        "id": "nb_Bp2vzZSua"
      },
      "source": [
        "* 下のように変数の文字列の名前ではなく、変数を直接指定しても、同じ意味になる。"
      ]
    },
    {
      "cell_type": "code",
      "metadata": {
        "colab": {
          "base_uri": "https://localhost:8080/"
        },
        "id": "wz4bgDS9ppQ3",
        "outputId": "4cf61933-6f4f-4cca-dc0b-bcac9bc21af0"
      },
      "source": [
        "model.logp({mu: 0})"
      ],
      "execution_count": null,
      "outputs": [
        {
          "output_type": "execute_result",
          "data": {
            "text/plain": [
              "array(-150.77379442)"
            ]
          },
          "metadata": {
            "tags": []
          },
          "execution_count": 16
        }
      ]
    },
    {
      "cell_type": "markdown",
      "metadata": {
        "id": "ootFpJ2GTpxI"
      },
      "source": [
        "* モデルに属するそれぞれの確率変数は、適当な初期値を設定されている。\n",
        " * この初期値は、サンプリングの出発点として用いられる。"
      ]
    },
    {
      "cell_type": "code",
      "metadata": {
        "colab": {
          "base_uri": "https://localhost:8080/"
        },
        "id": "UA3Ljl1UmfYl",
        "outputId": "851be640-486d-460e-970a-dded557edee3"
      },
      "source": [
        "mu.tag.test_value"
      ],
      "execution_count": null,
      "outputs": [
        {
          "output_type": "execute_result",
          "data": {
            "text/plain": [
              "0.0"
            ]
          },
          "metadata": {
            "tags": []
          },
          "execution_count": 17
        }
      ]
    },
    {
      "cell_type": "code",
      "metadata": {
        "colab": {
          "base_uri": "https://localhost:8080/"
        },
        "id": "IHS54Ynsmh_X",
        "outputId": "aef34071-b5b3-4aec-91bf-556ba5e59333"
      },
      "source": [
        "obs.tag.test_value"
      ],
      "execution_count": null,
      "outputs": [
        {
          "output_type": "execute_result",
          "data": {
            "text/plain": [
              "array([-3.32631993e-01, -8.14471512e-01,  9.63064871e-01,  2.00536074e+00,\n",
              "       -7.16022782e-01,  1.20856844e+00, -1.10088237e-01, -7.38472077e-01,\n",
              "       -2.39822437e-01,  3.09948753e-01,  1.46137713e+00, -5.80558873e-01,\n",
              "        1.39549687e-01,  1.75534941e+00, -8.24988106e-01,  7.35909215e-01,\n",
              "        1.41615335e+00,  1.74629968e-02, -2.83137769e+00, -1.27097466e+00,\n",
              "       -1.46443692e+00, -9.18357075e-01, -1.15271585e-02,  2.77272138e-01,\n",
              "        5.95435473e-01, -1.55719800e+00, -4.63349310e-01,  1.12688621e+00,\n",
              "        1.23233390e+00, -1.08657848e+00, -3.15237632e-01, -9.10346570e-01,\n",
              "       -2.39192980e-01,  1.90302636e+00, -1.20852484e-02,  7.78431698e-01,\n",
              "       -6.58038251e-02,  4.87559077e-01, -2.76306605e+00, -9.73605716e-01,\n",
              "       -7.68075560e-01, -2.32153522e+00, -5.88537127e-02, -4.92778689e-01,\n",
              "       -5.43695659e-01, -1.09868103e+00, -4.93270259e-01,  3.50282831e-01,\n",
              "       -8.59690484e-01,  1.26412860e-02, -2.21420642e+00,  1.16219458e+00,\n",
              "       -1.21344910e+00, -8.54233045e-01,  1.23719685e+00,  7.20037219e-01,\n",
              "       -1.30733616e+00,  2.65184265e+00, -1.47977362e-02, -4.65836167e-01,\n",
              "        1.25321307e+00,  1.28681470e-01,  8.61774519e-01,  1.83726325e+00,\n",
              "       -1.87217284e+00, -2.07230408e+00, -7.87456436e-01,  4.61650877e-03,\n",
              "       -1.70475922e+00,  2.25782260e-01, -1.05824950e+00,  1.77317275e-01,\n",
              "        8.87427431e-01, -2.44224056e-01, -7.60830964e-01, -3.95574551e-01,\n",
              "        1.73638791e-01,  1.27158437e+00, -3.14954266e-01, -1.41682279e+00,\n",
              "       -8.77829815e-02,  2.63183721e-01, -3.44145236e-01, -7.67248590e-01,\n",
              "       -1.74200027e+00, -6.49773426e-01, -3.29203955e-01,  1.46509846e+00,\n",
              "        6.17267424e-01,  2.00217471e-02, -5.45600430e-02,  1.74408917e+00,\n",
              "       -3.34039152e-01, -1.13134626e+00,  5.58182094e-02,  1.47281886e-01,\n",
              "        1.11514524e+00,  1.03933610e-01,  7.45866790e-01,  1.63238020e-04])"
            ]
          },
          "metadata": {
            "tags": []
          },
          "execution_count": 18
        }
      ]
    },
    {
      "cell_type": "markdown",
      "metadata": {
        "id": "7pVxiIT2Zix9"
      },
      "source": [
        "* 観測されている確率変数の初期値は、設定された観測データと同じ値になっているようだ。"
      ]
    },
    {
      "cell_type": "code",
      "metadata": {
        "colab": {
          "base_uri": "https://localhost:8080/"
        },
        "id": "PUxibX1Pq9EK",
        "outputId": "08753d88-96b8-4344-e457-835f844728f8"
      },
      "source": [
        "obs.observations"
      ],
      "execution_count": null,
      "outputs": [
        {
          "output_type": "execute_result",
          "data": {
            "text/plain": [
              "array([-3.32631993e-01, -8.14471512e-01,  9.63064871e-01,  2.00536074e+00,\n",
              "       -7.16022782e-01,  1.20856844e+00, -1.10088237e-01, -7.38472077e-01,\n",
              "       -2.39822437e-01,  3.09948753e-01,  1.46137713e+00, -5.80558873e-01,\n",
              "        1.39549687e-01,  1.75534941e+00, -8.24988106e-01,  7.35909215e-01,\n",
              "        1.41615335e+00,  1.74629968e-02, -2.83137769e+00, -1.27097466e+00,\n",
              "       -1.46443692e+00, -9.18357075e-01, -1.15271585e-02,  2.77272138e-01,\n",
              "        5.95435473e-01, -1.55719800e+00, -4.63349310e-01,  1.12688621e+00,\n",
              "        1.23233390e+00, -1.08657848e+00, -3.15237632e-01, -9.10346570e-01,\n",
              "       -2.39192980e-01,  1.90302636e+00, -1.20852484e-02,  7.78431698e-01,\n",
              "       -6.58038251e-02,  4.87559077e-01, -2.76306605e+00, -9.73605716e-01,\n",
              "       -7.68075560e-01, -2.32153522e+00, -5.88537127e-02, -4.92778689e-01,\n",
              "       -5.43695659e-01, -1.09868103e+00, -4.93270259e-01,  3.50282831e-01,\n",
              "       -8.59690484e-01,  1.26412860e-02, -2.21420642e+00,  1.16219458e+00,\n",
              "       -1.21344910e+00, -8.54233045e-01,  1.23719685e+00,  7.20037219e-01,\n",
              "       -1.30733616e+00,  2.65184265e+00, -1.47977362e-02, -4.65836167e-01,\n",
              "        1.25321307e+00,  1.28681470e-01,  8.61774519e-01,  1.83726325e+00,\n",
              "       -1.87217284e+00, -2.07230408e+00, -7.87456436e-01,  4.61650877e-03,\n",
              "       -1.70475922e+00,  2.25782260e-01, -1.05824950e+00,  1.77317275e-01,\n",
              "        8.87427431e-01, -2.44224056e-01, -7.60830964e-01, -3.95574551e-01,\n",
              "        1.73638791e-01,  1.27158437e+00, -3.14954266e-01, -1.41682279e+00,\n",
              "       -8.77829815e-02,  2.63183721e-01, -3.44145236e-01, -7.67248590e-01,\n",
              "       -1.74200027e+00, -6.49773426e-01, -3.29203955e-01,  1.46509846e+00,\n",
              "        6.17267424e-01,  2.00217471e-02, -5.45600430e-02,  1.74408917e+00,\n",
              "       -3.34039152e-01, -1.13134626e+00,  5.58182094e-02,  1.47281886e-01,\n",
              "        1.11514524e+00,  1.03933610e-01,  7.45866790e-01,  1.63238020e-04])"
            ]
          },
          "metadata": {
            "tags": []
          },
          "execution_count": 19
        }
      ]
    },
    {
      "cell_type": "markdown",
      "metadata": {
        "id": "ZgWxszvEsbRO"
      },
      "source": [
        "* 下のセルの計算で、`model.logp({\"mu\": 0})`と同じ答えを得ることができているのは、なぜか。説明してみよう。"
      ]
    },
    {
      "cell_type": "code",
      "metadata": {
        "colab": {
          "base_uri": "https://localhost:8080/"
        },
        "id": "8fK5-a0Opvh5",
        "outputId": "d25c08c9-8a30-4c2b-a1dd-6abc08d5a2d0"
      },
      "source": [
        "import numpy as np\n",
        "from scipy.stats import norm\n",
        "\n",
        "print(np.log(norm().pdf(obs.observations)).sum() + np.log(norm().pdf(0)))"
      ],
      "execution_count": null,
      "outputs": [
        {
          "output_type": "stream",
          "text": [
            "-150.77379442384571\n"
          ],
          "name": "stdout"
        }
      ]
    },
    {
      "cell_type": "markdown",
      "metadata": {
        "id": "34s_ahsjgOMi"
      },
      "source": [
        "* 確率変数の初期値は、以下のようにして手動で設定することもできる。"
      ]
    },
    {
      "cell_type": "code",
      "metadata": {
        "colab": {
          "base_uri": "https://localhost:8080/"
        },
        "id": "gLIfK8nxehC_",
        "outputId": "502a9f16-0c1d-4ba5-dc38-37f10d8c64e5"
      },
      "source": [
        "with model:\n",
        "    parameter = pm.Exponential(\"poisson_param\", 1.0, testval=0.5)\n",
        "\n",
        "print(\"parameter.tag.test_value =\", parameter.tag.test_value)"
      ],
      "execution_count": null,
      "outputs": [
        {
          "output_type": "stream",
          "text": [
            "parameter.tag.test_value = 0.5\n"
          ],
          "name": "stdout"
        }
      ]
    },
    {
      "cell_type": "markdown",
      "metadata": {
        "id": "5YwLKDA6iZWr"
      },
      "source": [
        "* 同じ分布に従う複数の確率変数を一挙に作ることもできる。\n",
        "* 確率変数のリストを作ることは推奨されていない。\n",
        " * cf. https://docs.pymc.io/notebooks/api_quickstart.html#Lists-of-RVs-/-higher-dimensional-RVs\n",
        "* キーワード引数shapeで個数(or 形)を指定する方法が推奨されている。"
      ]
    },
    {
      "cell_type": "code",
      "metadata": {
        "id": "VMWrreicHTP5"
      },
      "source": [
        "with pm.Model():\n",
        "    # bad:\n",
        "    x = [pm.Normal(f\"x_{i}\", mu=0, sigma=1) for i in range(10)]"
      ],
      "execution_count": null,
      "outputs": []
    },
    {
      "cell_type": "code",
      "metadata": {
        "id": "ttxDEGTAiYRg"
      },
      "source": [
        "with pm.Model() as model:\n",
        "    # good:\n",
        "    x = pm.Normal(\"x\", mu=0, sigma=1, shape=10)"
      ],
      "execution_count": null,
      "outputs": []
    },
    {
      "cell_type": "code",
      "metadata": {
        "colab": {
          "base_uri": "https://localhost:8080/"
        },
        "id": "nFlBERDWihCg",
        "outputId": "a60cfd05-733e-4859-a1c0-a6e4a694d0d2"
      },
      "source": [
        "x.tag.test_value"
      ],
      "execution_count": null,
      "outputs": [
        {
          "output_type": "execute_result",
          "data": {
            "text/plain": [
              "array([0., 0., 0., 0., 0., 0., 0., 0., 0., 0.])"
            ]
          },
          "metadata": {
            "tags": []
          },
          "execution_count": 24
        }
      ]
    },
    {
      "cell_type": "markdown",
      "metadata": {
        "id": "wcyUhuo2aSro"
      },
      "source": [
        "## 2.2 PyMC3で使える確率分布\n",
        "cf. https://docs.pymc.io/notebooks/api_quickstart.html#2.-Probability-Distributions"
      ]
    },
    {
      "cell_type": "markdown",
      "metadata": {
        "id": "4dv232Ruahja"
      },
      "source": [
        "### 2.2.1 PyMC3におけるprobabilistic programの構成\n",
        "* どんなprobabilistic programも、観測確率変数と潜在確率変数とから成る。\n",
        " * 観測確率変数は、尤度分布によって定義される。\n",
        " * 潜在確率変数は、事前分布によって定義される。\n"
      ]
    },
    {
      "cell_type": "markdown",
      "metadata": {
        "id": "t_rafX2JIn65"
      },
      "source": [
        "* PyMC3で使える分布は、以下の通り。\n",
        " * 単変量連続分布 https://docs.pymc.io/api/distributions/continuous.html\n",
        " * 単変量離散分布 https://docs.pymc.io/api/distributions/discrete.html\n",
        " * 多変量分布 https://docs.pymc.io/api/distributions/multivariate.html\n",
        " * 混合分布　https://docs.pymc.io/api/distributions/mixture.html"
      ]
    },
    {
      "cell_type": "markdown",
      "metadata": {
        "id": "2tCBsV1KaWnf"
      },
      "source": [
        "* `help`関数で各分布の説明を見ることができる。"
      ]
    },
    {
      "cell_type": "code",
      "metadata": {
        "colab": {
          "base_uri": "https://localhost:8080/"
        },
        "id": "QdtnqxzkaLfP",
        "outputId": "28d4481c-4b80-4d7a-e6c1-70ca2daaa2e0"
      },
      "source": [
        "help(pm.Normal)"
      ],
      "execution_count": null,
      "outputs": [
        {
          "output_type": "stream",
          "text": [
            "Help on class Normal in module pymc3.distributions.continuous:\n",
            "\n",
            "class Normal(pymc3.distributions.distribution.Continuous)\n",
            " |  Normal(name, *args, **kwargs)\n",
            " |  \n",
            " |  Univariate normal log-likelihood.\n",
            " |  \n",
            " |  The pdf of this distribution is\n",
            " |  \n",
            " |  .. math::\n",
            " |  \n",
            " |     f(x \\mid \\mu, \\tau) =\n",
            " |         \\sqrt{\\frac{\\tau}{2\\pi}}\n",
            " |         \\exp\\left\\{ -\\frac{\\tau}{2} (x-\\mu)^2 \\right\\}\n",
            " |  \n",
            " |  Normal distribution can be parameterized either in terms of precision\n",
            " |  or standard deviation. The link between the two parametrizations is\n",
            " |  given by\n",
            " |  \n",
            " |  .. math::\n",
            " |  \n",
            " |     \\tau = \\dfrac{1}{\\sigma^2}\n",
            " |  \n",
            " |  .. plot::\n",
            " |  \n",
            " |      import matplotlib.pyplot as plt\n",
            " |      import numpy as np\n",
            " |      import scipy.stats as st\n",
            " |      plt.style.use('seaborn-darkgrid')\n",
            " |      x = np.linspace(-5, 5, 1000)\n",
            " |      mus = [0., 0., 0., -2.]\n",
            " |      sigmas = [0.4, 1., 2., 0.4]\n",
            " |      for mu, sigma in zip(mus, sigmas):\n",
            " |          pdf = st.norm.pdf(x, mu, sigma)\n",
            " |          plt.plot(x, pdf, label=r'$\\mu$ = {}, $\\sigma$ = {}'.format(mu, sigma))\n",
            " |      plt.xlabel('x', fontsize=12)\n",
            " |      plt.ylabel('f(x)', fontsize=12)\n",
            " |      plt.legend(loc=1)\n",
            " |      plt.show()\n",
            " |  \n",
            " |  ========  ==========================================\n",
            " |  Support   :math:`x \\in \\mathbb{R}`\n",
            " |  Mean      :math:`\\mu`\n",
            " |  Variance  :math:`\\dfrac{1}{\\tau}` or :math:`\\sigma^2`\n",
            " |  ========  ==========================================\n",
            " |  \n",
            " |  Parameters\n",
            " |  ----------\n",
            " |  mu: float\n",
            " |      Mean.\n",
            " |  sigma: float\n",
            " |      Standard deviation (sigma > 0) (only required if tau is not specified).\n",
            " |  tau: float\n",
            " |      Precision (tau > 0) (only required if sigma is not specified).\n",
            " |  \n",
            " |  Examples\n",
            " |  --------\n",
            " |  .. code-block:: python\n",
            " |  \n",
            " |      with pm.Model():\n",
            " |          x = pm.Normal('x', mu=0, sigma=10)\n",
            " |  \n",
            " |      with pm.Model():\n",
            " |          x = pm.Normal('x', mu=0, tau=1/23)\n",
            " |  \n",
            " |  Method resolution order:\n",
            " |      Normal\n",
            " |      pymc3.distributions.distribution.Continuous\n",
            " |      pymc3.distributions.distribution.Distribution\n",
            " |      builtins.object\n",
            " |  \n",
            " |  Methods defined here:\n",
            " |  \n",
            " |  __init__(self, mu=0, sigma=None, tau=None, sd=None, **kwargs)\n",
            " |      Initialize self.  See help(type(self)) for accurate signature.\n",
            " |  \n",
            " |  logcdf(self, value)\n",
            " |      Compute the log of the cumulative distribution function for Normal distribution\n",
            " |      at the specified value.\n",
            " |      \n",
            " |      Parameters\n",
            " |      ----------\n",
            " |      value: numeric\n",
            " |          Value(s) for which log CDF is calculated. If the log CDF for multiple\n",
            " |          values are desired the values must be provided in a numpy array or theano tensor.\n",
            " |      \n",
            " |      Returns\n",
            " |      -------\n",
            " |      TensorVariable\n",
            " |  \n",
            " |  logp(self, value)\n",
            " |      Calculate log-probability of Normal distribution at specified value.\n",
            " |      \n",
            " |      Parameters\n",
            " |      ----------\n",
            " |      value: numeric\n",
            " |          Value(s) for which log-probability is calculated. If the log probabilities for multiple\n",
            " |          values are desired the values must be provided in a numpy array or theano tensor\n",
            " |      \n",
            " |      Returns\n",
            " |      -------\n",
            " |      TensorVariable\n",
            " |  \n",
            " |  random(self, point=None, size=None)\n",
            " |      Draw random values from Normal distribution.\n",
            " |      \n",
            " |      Parameters\n",
            " |      ----------\n",
            " |      point: dict, optional\n",
            " |          Dict of variable values on which random values are to be\n",
            " |          conditioned (uses default point if not specified).\n",
            " |      size: int, optional\n",
            " |          Desired size of random sample (returns one sample if not\n",
            " |          specified).\n",
            " |      \n",
            " |      Returns\n",
            " |      -------\n",
            " |      array\n",
            " |  \n",
            " |  ----------------------------------------------------------------------\n",
            " |  Data and other attributes defined here:\n",
            " |  \n",
            " |  data = None\n",
            " |  \n",
            " |  ----------------------------------------------------------------------\n",
            " |  Methods inherited from pymc3.distributions.distribution.Distribution:\n",
            " |  \n",
            " |  __getnewargs__(self)\n",
            " |  \n",
            " |  __latex__ = _repr_latex_(self, name=None, dist=None)\n",
            " |      Magic method name for IPython to use for LaTeX formatting.\n",
            " |  \n",
            " |  default(self)\n",
            " |  \n",
            " |  get_test_val(self, val, defaults)\n",
            " |  \n",
            " |  getattr_value(self, val)\n",
            " |  \n",
            " |  logp_nojac(self, *args, **kwargs)\n",
            " |      Return the logp, but do not include a jacobian term for transforms.\n",
            " |      \n",
            " |      If we use different parametrizations for the same distribution, we\n",
            " |      need to add the determinant of the jacobian of the transformation\n",
            " |      to make sure the densities still describe the same distribution.\n",
            " |      However, MAP estimates are not invariant with respect to the\n",
            " |      parametrization, we need to exclude the jacobian terms in this case.\n",
            " |      \n",
            " |      This function should be overwritten in base classes for transformed\n",
            " |      distributions.\n",
            " |  \n",
            " |  logp_sum(self, *args, **kwargs)\n",
            " |      Return the sum of the logp values for the given observations.\n",
            " |      \n",
            " |      Subclasses can use this to improve the speed of logp evaluations\n",
            " |      if only the sum of the logp values is needed.\n",
            " |  \n",
            " |  ----------------------------------------------------------------------\n",
            " |  Class methods inherited from pymc3.distributions.distribution.Distribution:\n",
            " |  \n",
            " |  dist(*args, **kwargs) from builtins.type\n",
            " |  \n",
            " |  ----------------------------------------------------------------------\n",
            " |  Static methods inherited from pymc3.distributions.distribution.Distribution:\n",
            " |  \n",
            " |  __new__(cls, name, *args, **kwargs)\n",
            " |      Create and return a new object.  See help(type) for accurate signature.\n",
            " |  \n",
            " |  ----------------------------------------------------------------------\n",
            " |  Data descriptors inherited from pymc3.distributions.distribution.Distribution:\n",
            " |  \n",
            " |  __dict__\n",
            " |      dictionary for instance variables (if defined)\n",
            " |  \n",
            " |  __weakref__\n",
            " |      list of weak references to the object (if defined)\n",
            "\n"
          ],
          "name": "stdout"
        }
      ]
    },
    {
      "cell_type": "markdown",
      "metadata": {
        "id": "cJe6jgKBP2Dt"
      },
      "source": [
        "* 確率変数が従う分布の密度関数の対数を評価することもできる。"
      ]
    },
    {
      "cell_type": "code",
      "metadata": {
        "id": "Ga5fXr_rP_yn"
      },
      "source": [
        "with pm.Model() as model:\n",
        "    x = pm.Normal(\"x\", mu=0, sigma=1)"
      ],
      "execution_count": null,
      "outputs": []
    },
    {
      "cell_type": "code",
      "metadata": {
        "colab": {
          "base_uri": "https://localhost:8080/"
        },
        "id": "kQ9lZ6ZpQEsN",
        "outputId": "e4dba766-4346-4210-bd14-8816e6654c50"
      },
      "source": [
        "eval_points = np.linspace(-5.0, 5.0, 11)\n",
        "print(eval_points)"
      ],
      "execution_count": null,
      "outputs": [
        {
          "output_type": "stream",
          "text": [
            "[-5. -4. -3. -2. -1.  0.  1.  2.  3.  4.  5.]\n"
          ],
          "name": "stdout"
        }
      ]
    },
    {
      "cell_type": "code",
      "metadata": {
        "colab": {
          "base_uri": "https://localhost:8080/"
        },
        "id": "RSHmiiecQnr5",
        "outputId": "ef268056-0c20-4711-a7f7-74a801b73f0e"
      },
      "source": [
        "np.exp(x.distribution.logp(eval_points).eval())"
      ],
      "execution_count": null,
      "outputs": [
        {
          "output_type": "execute_result",
          "data": {
            "text/plain": [
              "array([1.48671951e-06, 1.33830226e-04, 4.43184841e-03, 5.39909665e-02,\n",
              "       2.41970725e-01, 3.98942280e-01, 2.41970725e-01, 5.39909665e-02,\n",
              "       4.43184841e-03, 1.33830226e-04, 1.48671951e-06])"
            ]
          },
          "metadata": {
            "tags": []
          },
          "execution_count": 28
        }
      ]
    },
    {
      "cell_type": "code",
      "metadata": {
        "colab": {
          "base_uri": "https://localhost:8080/"
        },
        "id": "GGxkHtAOSqjD",
        "outputId": "f189177a-a93c-4bb6-f7c1-a0c596306ee9"
      },
      "source": [
        "np.exp(model.named_vars[\"x\"].distribution.logp(eval_points).eval())"
      ],
      "execution_count": null,
      "outputs": [
        {
          "output_type": "execute_result",
          "data": {
            "text/plain": [
              "array([1.48671951e-06, 1.33830226e-04, 4.43184841e-03, 5.39909665e-02,\n",
              "       2.41970725e-01, 3.98942280e-01, 2.41970725e-01, 5.39909665e-02,\n",
              "       4.43184841e-03, 1.33830226e-04, 1.48671951e-06])"
            ]
          },
          "metadata": {
            "tags": []
          },
          "execution_count": 29
        }
      ]
    },
    {
      "cell_type": "markdown",
      "metadata": {
        "id": "7c0kLnZnbJ0l"
      },
      "source": [
        "### 2.2.2 確率変数のdeterministic transform\n",
        "* 観測確率変数でも潜在確率変数でもないものとして、確率変数のdeterministic transformsがある。\n",
        "* これは、他の確率変数を、加減乗除の計算を行ったり、自分で定義した関数を適用するなどして、変換したもののことである。"
      ]
    },
    {
      "cell_type": "code",
      "metadata": {
        "id": "w4v51b_cabB1"
      },
      "source": [
        "with pm.Model() as model:\n",
        "    x = pm.Normal(\"x\", mu=0, sigma=1)\n",
        "    y = pm.Gamma(\"y\", alpha=1, beta=1)\n",
        "    summed = x + y\n",
        "    squared = x ** 2\n",
        "    sined = pm.math.sin(x)"
      ],
      "execution_count": null,
      "outputs": []
    },
    {
      "cell_type": "markdown",
      "metadata": {
        "id": "CkyOTvfVdrB2"
      },
      "source": [
        "* 変換した後の変数は`basic_RVs`には含まれない。"
      ]
    },
    {
      "cell_type": "code",
      "metadata": {
        "colab": {
          "base_uri": "https://localhost:8080/"
        },
        "id": "5UcorMWzdnf_",
        "outputId": "2d879675-9235-4e98-8716-14083edcc6c9"
      },
      "source": [
        "model.basic_RVs"
      ],
      "execution_count": null,
      "outputs": [
        {
          "output_type": "execute_result",
          "data": {
            "text/plain": [
              "[x, y_log__]"
            ]
          },
          "metadata": {
            "tags": []
          },
          "execution_count": 31
        }
      ]
    },
    {
      "cell_type": "markdown",
      "metadata": {
        "id": "gxmNk4Z6JkNH"
      },
      "source": [
        "* `y_log__`とあるのは、確率変数`y`については、その値の対数をとったものが内部的には表現されているから。\n",
        " * ガンマ分布に従う確率変数は、デフォルトの設定ではこのように扱われる。"
      ]
    },
    {
      "cell_type": "code",
      "metadata": {
        "colab": {
          "base_uri": "https://localhost:8080/",
          "height": 39
        },
        "id": "wJh0EtMpd8TH",
        "outputId": "2acdd4a7-1cc9-4d88-904a-5874a78966a9"
      },
      "source": [
        "y"
      ],
      "execution_count": null,
      "outputs": [
        {
          "output_type": "execute_result",
          "data": {
            "text/latex": "$\\text{y} \\sim \\text{Gamma}(\\mathit{alpha}=1.0,~\\mathit{beta}=1.0)$",
            "text/plain": [
              "y"
            ]
          },
          "metadata": {
            "tags": []
          },
          "execution_count": 32
        }
      ]
    },
    {
      "cell_type": "code",
      "metadata": {
        "colab": {
          "base_uri": "https://localhost:8080/"
        },
        "id": "go6Dh4oxd4GA",
        "outputId": "b1bf3372-af02-425c-d763-d38d85df67ab"
      },
      "source": [
        "summed"
      ],
      "execution_count": null,
      "outputs": [
        {
          "output_type": "execute_result",
          "data": {
            "text/plain": [
              "Elemwise{add,no_inplace}.0"
            ]
          },
          "metadata": {
            "tags": []
          },
          "execution_count": 33
        }
      ]
    },
    {
      "cell_type": "code",
      "metadata": {
        "colab": {
          "base_uri": "https://localhost:8080/"
        },
        "id": "eiHwE2YARBVI",
        "outputId": "7915aa35-c632-4679-dbaf-67701df95de1"
      },
      "source": [
        " summed.eval({x:0, y:1})"
      ],
      "execution_count": null,
      "outputs": [
        {
          "output_type": "execute_result",
          "data": {
            "text/plain": [
              "array(1.)"
            ]
          },
          "metadata": {
            "tags": []
          },
          "execution_count": 34
        }
      ]
    },
    {
      "cell_type": "markdown",
      "metadata": {
        "id": "DEzjkU2EcwpF"
      },
      "source": [
        "* 変換した後の変数がとる値もPyMC3にちゃんと追跡させるようにするには、`pm.Deterministic`を使って明示的に変換する。"
      ]
    },
    {
      "cell_type": "code",
      "metadata": {
        "id": "gOH-aAoGctpU"
      },
      "source": [
        "with pm.Model() as model:\n",
        "    x = pm.Normal(\"x\", mu=0, sigma=1)\n",
        "    plus_2 = x + 2\n",
        "    plus_2_det = pm.Deterministic(\"x plus 2\", x + 2)"
      ],
      "execution_count": null,
      "outputs": []
    },
    {
      "cell_type": "code",
      "metadata": {
        "colab": {
          "base_uri": "https://localhost:8080/"
        },
        "id": "d2vwKDF_d0Hf",
        "outputId": "b318ac56-0816-4cf7-d9ad-645991c9c65a"
      },
      "source": [
        "model.basic_RVs"
      ],
      "execution_count": null,
      "outputs": [
        {
          "output_type": "execute_result",
          "data": {
            "text/plain": [
              "[x]"
            ]
          },
          "metadata": {
            "tags": []
          },
          "execution_count": 36
        }
      ]
    },
    {
      "cell_type": "code",
      "metadata": {
        "colab": {
          "base_uri": "https://localhost:8080/"
        },
        "id": "yXxljJ5ic8My",
        "outputId": "ef63f191-92c0-41f2-e33d-2abb6ea2463a"
      },
      "source": [
        "plus_2"
      ],
      "execution_count": null,
      "outputs": [
        {
          "output_type": "execute_result",
          "data": {
            "text/plain": [
              "Elemwise{add,no_inplace}.0"
            ]
          },
          "metadata": {
            "tags": []
          },
          "execution_count": 37
        }
      ]
    },
    {
      "cell_type": "code",
      "metadata": {
        "colab": {
          "base_uri": "https://localhost:8080/"
        },
        "id": "xV3WoRmwRb0Q",
        "outputId": "f088c5ac-bc19-46e0-e888-2829460b7c36"
      },
      "source": [
        "plus_2.eval({x:3})"
      ],
      "execution_count": null,
      "outputs": [
        {
          "output_type": "execute_result",
          "data": {
            "text/plain": [
              "array(5.)"
            ]
          },
          "metadata": {
            "tags": []
          },
          "execution_count": 38
        }
      ]
    },
    {
      "cell_type": "code",
      "metadata": {
        "colab": {
          "base_uri": "https://localhost:8080/",
          "height": 37
        },
        "id": "OdnqeVwLc98Q",
        "outputId": "71313320-8e7a-41e3-e47e-5b53a9efe5bc"
      },
      "source": [
        "plus_2_det"
      ],
      "execution_count": null,
      "outputs": [
        {
          "output_type": "execute_result",
          "data": {
            "text/latex": "$\\text{x plus 2} \\sim \\text{Deterministic}(\\text{x},~\\text{Constant})$",
            "text/plain": [
              "x plus 2"
            ]
          },
          "metadata": {
            "tags": []
          },
          "execution_count": 39
        }
      ]
    },
    {
      "cell_type": "code",
      "metadata": {
        "colab": {
          "base_uri": "https://localhost:8080/"
        },
        "id": "s1lcIYypK4Tx",
        "outputId": "6497367b-facd-4f15-c743-a99f573dcaa4"
      },
      "source": [
        "model.deterministics"
      ],
      "execution_count": null,
      "outputs": [
        {
          "output_type": "execute_result",
          "data": {
            "text/plain": [
              "[x plus 2]"
            ]
          },
          "metadata": {
            "tags": []
          },
          "execution_count": 40
        }
      ]
    },
    {
      "cell_type": "code",
      "metadata": {
        "colab": {
          "base_uri": "https://localhost:8080/"
        },
        "id": "Yng-sJ1WRhB1",
        "outputId": "6d3475f7-7889-4671-8a93-90409796e583"
      },
      "source": [
        "plus_2_det.eval({x:3})"
      ],
      "execution_count": null,
      "outputs": [
        {
          "output_type": "execute_result",
          "data": {
            "text/plain": [
              "array(5.)"
            ]
          },
          "metadata": {
            "tags": []
          },
          "execution_count": 41
        }
      ]
    },
    {
      "cell_type": "markdown",
      "metadata": {
        "id": "ldESl6zzLGaW"
      },
      "source": [
        "### 2.2.3 確率変数の自動的な変換(transform)\n",
        "* 上に示した、ガンマ分布に従う確率変数の場合のように、デフォルトの設定で自動的に変換される変数がある。"
      ]
    },
    {
      "cell_type": "markdown",
      "metadata": {
        "id": "Ixjo0-bRLWM4"
      },
      "source": [
        "* 例えば、範囲の決まった連続一様分布に従う確率変数は、`LogOdds`変換が自動的に適用されている。"
      ]
    },
    {
      "cell_type": "code",
      "metadata": {
        "id": "CD8qiJ9leId1"
      },
      "source": [
        "with pm.Model() as model:\n",
        "    x = pm.Uniform(\"x\", lower=0, upper=1)"
      ],
      "execution_count": null,
      "outputs": []
    },
    {
      "cell_type": "code",
      "metadata": {
        "colab": {
          "base_uri": "https://localhost:8080/"
        },
        "id": "m2ucQU8eLvkJ",
        "outputId": "a877cb37-fbea-4655-92f0-05f95aafc57c"
      },
      "source": [
        "model.free_RVs"
      ],
      "execution_count": null,
      "outputs": [
        {
          "output_type": "execute_result",
          "data": {
            "text/plain": [
              "[x_interval__]"
            ]
          },
          "metadata": {
            "tags": []
          },
          "execution_count": 43
        }
      ]
    },
    {
      "cell_type": "markdown",
      "metadata": {
        "id": "RfrH2HrOL6lr"
      },
      "source": [
        "* `x`は、`x_interval__`にロジスティック変換（`LogOdds`変換の逆）を適用したものとして扱われている。"
      ]
    },
    {
      "cell_type": "code",
      "metadata": {
        "colab": {
          "base_uri": "https://localhost:8080/"
        },
        "id": "tQHt1V-ILzbQ",
        "outputId": "286fc8f8-01a3-4ec4-b5b8-6c37524e6f2d"
      },
      "source": [
        "model.deterministics"
      ],
      "execution_count": null,
      "outputs": [
        {
          "output_type": "execute_result",
          "data": {
            "text/plain": [
              "[x]"
            ]
          },
          "metadata": {
            "tags": []
          },
          "execution_count": 44
        }
      ]
    },
    {
      "cell_type": "markdown",
      "metadata": {
        "id": "f3AcjmjkMXFJ"
      },
      "source": [
        "* このように自動的な変換が適用されるのは、変換した後の空間でのサンプリングのほうが容易なためである。"
      ]
    },
    {
      "cell_type": "markdown",
      "metadata": {
        "id": "9hCt5JGiMs96"
      },
      "source": [
        "### 2.2.4 変数変換の利用例：変換を明示的に指定することで対数正規分布に従う確率変数を作る"
      ]
    },
    {
      "cell_type": "markdown",
      "metadata": {
        "id": "RKdtu-R-M9Un"
      },
      "source": [
        "* PyMC3の`pymc3.distributions.transforms.ElemwiseTransform`クラスを継承して、自前の変数変換`Exp`を定義する。\n",
        " * これは、変数に指数関数を適用する変換である。"
      ]
    },
    {
      "cell_type": "code",
      "metadata": {
        "id": "fALMYI_NM6IS"
      },
      "source": [
        "import theano.tensor as tt # PyMC3でのテンソル型 cf. https://docs.pymc.io/PyMC3_and_Theano.html\n",
        "import pymc3.distributions.transforms as tr\n",
        "\n",
        "class Exp(tr.ElemwiseTransform):\n",
        "    name = \"exp\"\n",
        "\n",
        "    def backward(self, x):\n",
        "        return tt.log(x)\n",
        "\n",
        "    def forward(self, x):\n",
        "        return tt.exp(x)\n",
        "\n",
        "    def jacobian_det(self, x):\n",
        "        return -tt.log(x)"
      ],
      "execution_count": null,
      "outputs": []
    },
    {
      "cell_type": "markdown",
      "metadata": {
        "id": "1PXbIu75NK2p"
      },
      "source": [
        "* 正規分布に従う確率変数に指数関数を適用すると、その値は対数正規分布に従う。\n",
        " * `x1`は、この変数変換を使って対数正規分布に従う確率変数として作られている。\n",
        " * `x2`は、PyMC3に初めから用意されている対数正規分布に従う確率変数として作られている。"
      ]
    },
    {
      "cell_type": "code",
      "metadata": {
        "id": "ek-kVuIfNScA"
      },
      "source": [
        "with pm.Model() as model:\n",
        "    x1 = pm.Normal(\"x1\", 0.0, 1.0, transform=Exp())\n",
        "    x2 = pm.Lognormal(\"x2\", 0.0, 1.0)"
      ],
      "execution_count": null,
      "outputs": []
    },
    {
      "cell_type": "code",
      "metadata": {
        "colab": {
          "base_uri": "https://localhost:8080/",
          "height": 392
        },
        "id": "MI9zuW0WOPX0",
        "outputId": "1f09c197-c89d-4616-b786-7116531917b9"
      },
      "source": [
        "from IPython.core.pylabtools import figsize\n",
        "import matplotlib.pyplot as plt\n",
        "\n",
        "figsize(10, 6)\n",
        "\n",
        "lognorm1 = model.named_vars[\"x1_exp__\"]\n",
        "lognorm2 = model.named_vars[\"x2\"]\n",
        "\n",
        "_, ax = plt.subplots(1, 1)\n",
        "x = np.linspace(0.0, 10.0, 100)\n",
        "ax.plot(\n",
        "    x,\n",
        "    np.exp(lognorm1.distribution.logp(x).eval()),\n",
        "    \"--\",\n",
        "    alpha=0.5,\n",
        "    label=\"log(y) ~ Normal(0, 1)\",\n",
        ")\n",
        "ax.plot(\n",
        "    x,\n",
        "    np.exp(lognorm2.distribution.logp(x).eval()),\n",
        "    alpha=0.5,\n",
        "    label=\"y ~ Lognormal(0, 1)\",\n",
        ")\n",
        "plt.legend()"
      ],
      "execution_count": null,
      "outputs": [
        {
          "output_type": "execute_result",
          "data": {
            "text/plain": [
              "<matplotlib.legend.Legend at 0x7f98d3b5c550>"
            ]
          },
          "metadata": {
            "tags": []
          },
          "execution_count": 47
        },
        {
          "output_type": "display_data",
          "data": {
            "image/png": "[encoded data removed]",
            "text/plain": [
              "<Figure size 720x432 with 1 Axes>"
            ]
          },
          "metadata": {
            "tags": [],
            "needs_background": "light"
          }
        }
      ]
    },
    {
      "cell_type": "markdown",
      "metadata": {
        "id": "zC1xWo9kg-Hd"
      },
      "source": [
        "## 2.3 PyMC3における推論"
      ]
    },
    {
      "cell_type": "markdown",
      "metadata": {
        "id": "cZI0SFmOhSac"
      },
      "source": [
        "### 2.3.1 サンプリング"
      ]
    },
    {
      "cell_type": "code",
      "metadata": {
        "id": "usiGIsZDhAHk"
      },
      "source": [
        ""
      ],
      "execution_count": null,
      "outputs": []
    },
    {
      "cell_type": "markdown",
      "metadata": {
        "id": "NYlZyq7fhT8s"
      },
      "source": [
        "### 2.3.2 サンプリング結果の分析"
      ]
    },
    {
      "cell_type": "code",
      "metadata": {
        "id": "eh7fJb0NhWyz"
      },
      "source": [
        ""
      ],
      "execution_count": null,
      "outputs": []
    },
    {
      "cell_type": "markdown",
      "metadata": {
        "id": "RnTou_YihXip"
      },
      "source": [
        "### 2.3.3 変分推論"
      ]
    },
    {
      "cell_type": "code",
      "metadata": {
        "id": "F8xrjS8GhY9E"
      },
      "source": [
        ""
      ],
      "execution_count": null,
      "outputs": []
    }
  ]
}